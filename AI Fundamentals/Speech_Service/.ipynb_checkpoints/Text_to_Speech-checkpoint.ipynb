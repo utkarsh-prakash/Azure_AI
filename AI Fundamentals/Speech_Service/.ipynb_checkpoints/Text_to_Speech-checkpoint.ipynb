{
 "cells": [
  {
   "cell_type": "code",
   "execution_count": 1,
   "metadata": {},
   "outputs": [],
   "source": [
    "import azure.cognitiveservices.speech as speechsdk"
   ]
  },
  {
   "cell_type": "code",
   "execution_count": 2,
   "metadata": {},
   "outputs": [],
   "source": [
    "# Creates an instance of a speech config with specified subscription key and service region.\n",
    "# Replace with your own subscription key and service region (e.g., \"westus\").\n",
    "speech_key, service_region = \"______\", \"eastus\"\n",
    "speech_config = speechsdk.SpeechConfig(subscription=speech_key, region=service_region)"
   ]
  },
  {
   "cell_type": "code",
   "execution_count": 3,
   "metadata": {},
   "outputs": [],
   "source": [
    "# Creates an audio configuration that points to an audio file.\n",
    "# Replace with your own audio filename.\n",
    "audio_filename = \"text-to-speech.wav\"\n",
    "audio_output = speechsdk.audio.AudioOutputConfig(filename=audio_filename)"
   ]
  },
  {
   "cell_type": "code",
   "execution_count": 4,
   "metadata": {},
   "outputs": [],
   "source": [
    "# uncomment this line to change the voice used for synthesis\n",
    "speech_config.speech_synthesis_voice_name = \"en-CA-Linda\"\n",
    "\n",
    "# Creates a speech synthesizer using the default speaker as audio output.\n",
    "speech_synthesizer = speechsdk.SpeechSynthesizer(speech_config=speech_config, audio_config=audio_output)\n",
    "\n",
    "# If we dont pass the audio_config: redirecting it to save the audio file, it will speak out in real time"
   ]
  },
  {
   "cell_type": "code",
   "execution_count": 5,
   "metadata": {},
   "outputs": [
    {
     "name": "stdout",
     "output_type": "stream",
     "text": [
      "Type some text that you want to speak...\n",
      "country road, take me home\n"
     ]
    }
   ],
   "source": [
    "# Receives a text from console input.\n",
    "print(\"Type some text that you want to speak...\")\n",
    "text = input()\n",
    "\n",
    "# Synthesizes the received text to speech.\n",
    "# The synthesized speech is expected to be heard on the speaker with this line executed.\n",
    "result = speech_synthesizer.speak_text_async(text).get()"
   ]
  },
  {
   "cell_type": "code",
   "execution_count": 6,
   "metadata": {},
   "outputs": [
    {
     "name": "stdout",
     "output_type": "stream",
     "text": [
      "Speech synthesized to speaker for text [country road, take me home]\n"
     ]
    }
   ],
   "source": [
    "# Checks result.\n",
    "if result.reason == speechsdk.ResultReason.SynthesizingAudioCompleted:\n",
    "    print(\"Speech synthesized to speaker for text [{}]\".format(text))\n",
    "elif result.reason == speechsdk.ResultReason.Canceled:\n",
    "    cancellation_details = result.cancellation_details\n",
    "    print(\"Speech synthesis canceled: {}\".format(cancellation_details.reason))\n",
    "    if cancellation_details.reason == speechsdk.CancellationReason.Error:\n",
    "        if cancellation_details.error_details:\n",
    "            print(\"Error details: {}\".format(cancellation_details.error_details))\n",
    "    print(\"Did you update the subscription info?\")"
   ]
  }
 ],
 "metadata": {
  "kernelspec": {
   "display_name": "Python 3",
   "language": "python",
   "name": "python3"
  },
  "language_info": {
   "codemirror_mode": {
    "name": "ipython",
    "version": 3
   },
   "file_extension": ".py",
   "mimetype": "text/x-python",
   "name": "python",
   "nbconvert_exporter": "python",
   "pygments_lexer": "ipython3",
   "version": "3.7.6"
  }
 },
 "nbformat": 4,
 "nbformat_minor": 4
}
