{
 "cells": [
  {
   "cell_type": "code",
   "execution_count": 1,
   "metadata": {},
   "outputs": [],
   "source": [
    "# import pyaudio\n",
    "# import wave\n",
    "\n",
    "# # the file name output you want to record into\n",
    "# filename = \"recorded.wav\"\n",
    "# # set the chunk size of 1024 samples\n",
    "# chunk = 1024\n",
    "# # sample format\n",
    "# FORMAT = pyaudio.paInt16\n",
    "# # mono, change to 2 if you want stereo\n",
    "# channels = 1\n",
    "# # 44100 samples per second\n",
    "# sample_rate = 44100\n",
    "# record_seconds = 5\n",
    "# # initialize PyAudio object\n",
    "# p = pyaudio.PyAudio()\n",
    "# # open stream object as input & output\n",
    "# stream = p.open(format=FORMAT,\n",
    "#                 channels=channels,\n",
    "#                 rate=sample_rate,\n",
    "#                 input=True,\n",
    "#                 output=True,\n",
    "#                 frames_per_buffer=chunk)\n",
    "# frames = []\n",
    "# print(\"Recording...\")\n",
    "# for i in range(int(44100 / chunk * record_seconds)):\n",
    "#     data = stream.read(chunk)\n",
    "#     # if you want to hear your voice while recording\n",
    "#     # stream.write(data)\n",
    "#     frames.append(data)\n",
    "# print(\"Finished recording.\")\n",
    "# # stop and close stream\n",
    "# stream.stop_stream()\n",
    "# stream.close()\n",
    "# # terminate pyaudio object\n",
    "# p.terminate()\n",
    "# # save audio file\n",
    "# # open the file in 'write bytes' mode\n",
    "# wf = wave.open(filename, \"wb\")\n",
    "# # set the channels\n",
    "# wf.setnchannels(channels)\n",
    "# # set the sample format\n",
    "# wf.setsampwidth(p.get_sample_size(FORMAT))\n",
    "# # set the sample rate\n",
    "# wf.setframerate(sample_rate)\n",
    "# # write the frames as bytes\n",
    "# wf.writeframes(b\"\".join(frames))\n",
    "# # close the file\n",
    "# wf.close()"
   ]
  },
  {
   "cell_type": "code",
   "execution_count": 4,
   "metadata": {},
   "outputs": [
    {
     "name": "stdout",
     "output_type": "stream",
     "text": [
      "Begin speaking...\n",
      "Recognized: Hi this is checking 123 checking.\n"
     ]
    }
   ],
   "source": [
    "import azure.cognitiveservices.speech as speechsdk\n",
    "\n",
    "speech_key, service_region = \"______\", \"eastus\"\n",
    "speech_config = speechsdk.SpeechConfig(subscription=speech_key, region=service_region)\n",
    "\n",
    "speech_recognizer = speechsdk.SpeechRecognizer(speech_config=speech_config)\n",
    "\n",
    "print(\"Begin speaking...\")\n",
    "\n",
    "result = speech_recognizer.recognize_once()\n",
    "if result.reason == speechsdk.ResultReason.RecognizedSpeech:\n",
    "    print(\"Recognized: {}\".format(result.text))\n",
    "elif result.reason == speechsdk.ResultReason.NoMatch:\n",
    "    print(\"No speech could be recognized: {}\".format(result.no_match_details))\n",
    "elif result.reason == speechsdk.ResultReason.Canceled:\n",
    "    cancellation_details = result.cancellation_details\n",
    "    print(\"Speech Recognition canceled: {}\".format(cancellation_details.reason))\n",
    "    if cancellation_details.reason == speechsdk.CancellationReason.Error:\n",
    "        print(\"Error details: {}\".format(cancellation_details.error_details))"
   ]
  },
  {
   "cell_type": "code",
   "execution_count": null,
   "metadata": {},
   "outputs": [],
   "source": []
  }
 ],
 "metadata": {
  "kernelspec": {
   "display_name": "Python 3",
   "language": "python",
   "name": "python3"
  },
  "language_info": {
   "codemirror_mode": {
    "name": "ipython",
    "version": 3
   },
   "file_extension": ".py",
   "mimetype": "text/x-python",
   "name": "python",
   "nbconvert_exporter": "python",
   "pygments_lexer": "ipython3",
   "version": "3.7.6"
  }
 },
 "nbformat": 4,
 "nbformat_minor": 4
}
